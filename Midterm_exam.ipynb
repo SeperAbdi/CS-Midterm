{
  "nbformat": 4,
  "nbformat_minor": 0,
  "metadata": {
    "colab": {
      "name": "Midterm_exam.ipynb",
      "provenance": [],
      "collapsed_sections": [],
      "include_colab_link": true
    },
    "kernelspec": {
      "name": "python3",
      "display_name": "Python 3"
    }
  },
  "cells": [
    {
      "cell_type": "markdown",
      "metadata": {
        "id": "view-in-github",
        "colab_type": "text"
      },
      "source": [
        "<a href=\"https://colab.research.google.com/github/Mousaabdi/Midterm_exam/blob/main/Midterm_exam.ipynb\" target=\"_parent\"><img src=\"https://colab.research.google.com/assets/colab-badge.svg\" alt=\"Open In Colab\"/></a>"
      ]
    },
    {
      "cell_type": "code",
      "metadata": {
        "id": "cENQIwFHPLzb",
        "colab": {
          "base_uri": "https://localhost:8080/",
          "height": 323
        },
        "outputId": "da66e6f9-ee09-4730-f523-b8f039228731"
      },
      "source": [
        "!pip install ortools"
      ],
      "execution_count": null,
      "outputs": [
        {
          "output_type": "stream",
          "text": [
            "Collecting ortools\n",
            "\u001b[?25l  Downloading https://files.pythonhosted.org/packages/be/06/70475cc058328217739dff257a85fe2e90ecdbc1068d8fe52ad6f30fc53b/ortools-8.0.8283-cp36-cp36m-manylinux1_x86_64.whl (13.7MB)\n",
            "\u001b[K     |████████████████████████████████| 13.7MB 328kB/s \n",
            "\u001b[?25hCollecting protobuf>=3.13.0\n",
            "\u001b[?25l  Downloading https://files.pythonhosted.org/packages/30/79/510974552cebff2ba04038544799450defe75e96ea5f1675dbf72cc8744f/protobuf-3.13.0-cp36-cp36m-manylinux1_x86_64.whl (1.3MB)\n",
            "\u001b[K     |████████████████████████████████| 1.3MB 47.0MB/s \n",
            "\u001b[?25hRequirement already satisfied: six>=1.10 in /usr/local/lib/python3.6/dist-packages (from ortools) (1.15.0)\n",
            "Requirement already satisfied: setuptools in /usr/local/lib/python3.6/dist-packages (from protobuf>=3.13.0->ortools) (50.3.2)\n",
            "Installing collected packages: protobuf, ortools\n",
            "  Found existing installation: protobuf 3.12.4\n",
            "    Uninstalling protobuf-3.12.4:\n",
            "      Successfully uninstalled protobuf-3.12.4\n",
            "Successfully installed ortools-8.0.8283 protobuf-3.13.0\n"
          ],
          "name": "stdout"
        },
        {
          "output_type": "display_data",
          "data": {
            "application/vnd.colab-display-data+json": {
              "pip_warning": {
                "packages": [
                  "google"
                ]
              }
            }
          },
          "metadata": {
            "tags": []
          }
        }
      ]
    },
    {
      "cell_type": "code",
      "metadata": {
        "id": "vEgckZLOPPod"
      },
      "source": [
        "from ortools.linear_solver import pywraplp\n",
        "import matplotlib.pyplot as plt\n",
        "import random"
      ],
      "execution_count": null,
      "outputs": []
    },
    {
      "cell_type": "markdown",
      "metadata": {
        "id": "DbmH90lHOkzV"
      },
      "source": [
        "# Question 1\n",
        "\n",
        "Suppose we want to find the integral of the function $f(x)$ shown below:\n",
        "\n",
        "\\begin{cases} \n",
        "  2 - 8x^2 & x\\leq 0.5 \\\\\n",
        "  0 & 0.5 < x \n",
        "\\end{cases}\n",
        "\n",
        "f(x) has the following plot:\n"
      ]
    },
    {
      "cell_type": "code",
      "metadata": {
        "id": "x4WQgQIFPJsH",
        "colab": {
          "base_uri": "https://localhost:8080/",
          "height": 282
        },
        "outputId": "05c34fd3-f49e-4987-ae18-d5ed6d409d24"
      },
      "source": [
        "def f(x):\n",
        "    if x >= 0 and x <= 0.5:\n",
        "        return 2 - 8 * x**2\n",
        "    else:\n",
        "        return 0\n",
        "\n",
        "plt.plot([x/100 for x in range(0,100)], [f(x/100) for x in range(0,100)])"
      ],
      "execution_count": null,
      "outputs": [
        {
          "output_type": "execute_result",
          "data": {
            "text/plain": [
              "[<matplotlib.lines.Line2D at 0x7f2dc310b9e8>]"
            ]
          },
          "metadata": {
            "tags": []
          },
          "execution_count": 7
        },
        {
          "output_type": "display_data",
          "data": {
            "image/png": "[encoded data removed]",
            "text/plain": [
              "<Figure size 432x288 with 1 Axes>"
            ]
          },
          "metadata": {
            "tags": [],
            "needs_background": "light"
          }
        }
      ]
    },
    {
      "cell_type": "markdown",
      "metadata": {
        "id": "wS5JbmjSQcNu"
      },
      "source": [
        "1. Suppose we run a Monte Carlo simulation and draw $n$ samples uniformly from [0,1].  Let $x_i$ be the $i^{\\textrm{th}}$ sample.  Write the formula for the estimate of the integral of $f(x)$.\n",
        "\n",
        "<center>$A \\approx \\frac{b - a}{n}\\displaystyle\\sum_{i}f(x)$</center>\n",
        "\n",
        "2. For an estimate with 10 samples, on average, how many of the $x_i$'s be below 0.5?  What is the upper bound for the number of samples below 0.5?  What is the lower bound?\n",
        "\n",
        "<center>\n",
        "On average there will be 5 below and 5 above. The upper bound for samples below 0.5 is 10 and the lower bound is 0.\n",
        "</center>\n",
        "\n",
        "3. Suppose we only draw 5 samples uniformly, and then use antithetic draws for the other 5.  Give an example of what the 10 x_i's could look like.\n",
        "\n",
        "<center>$X_i = {0.1, 0.9, 0.2, 0.8, 0.25, 0.75 ...}$</center>\n",
        "\n",
        "4. Using the method in part 3., on average, how many will be below 0.5?  What is the upper bound for the number below 0.5?  What is the lower bound?\n",
        "\n",
        "<center> there will always be 5 below and 5 above </center>\n",
        "\n",
        "5. Would antithetic sampling reduce the variance of the estimate? Use Monte Carlo methods with both sampling methods and report on the variance of each method in your answer.  (Hint: you will want to run multiple small sample Monte Carlo methods)"
      ]
    },
    {
      "cell_type": "code",
      "metadata": {
        "id": "IQYKvNogOweA",
        "colab": {
          "base_uri": "https://localhost:8080/",
          "height": 350
        },
        "outputId": "b13e818d-fa5b-46a7-ef29-acc2ecbd0d57"
      },
      "source": [
        "samples = 10\n",
        "simulations = 100\n",
        "\n",
        "\n",
        "\n",
        "estimates = []\n",
        "anti_estimates = []\n",
        "for i in range(simulations):\n",
        "    draws = []\n",
        "    anti_draws = []\n",
        "    for i in range(samples//2):\n",
        "        draws.append(f(random.random()))\n",
        "        draws.append(f(random.random()))\n",
        "        anti_draw = random.random()\n",
        "        anti_draws.append(f(anti_draw))\n",
        "        anti_draws.append(f(1-anti_draw))\n",
        "    estimates.append(sum(draws)/samples)\n",
        "    anti_estimates.append(sum(anti_draws)/samples)\n",
        "\n",
        "plt.hist(estimates)\n",
        "plt.hist(anti_estimates, alpha=0.5)"
      ],
      "execution_count": null,
      "outputs": [
        {
          "output_type": "execute_result",
          "data": {
            "text/plain": [
              "(array([ 1.,  4.,  3., 12., 20., 16., 19., 15.,  6.,  4.]),\n",
              " array([0.32703671, 0.39303306, 0.45902941, 0.52502576, 0.59102211,\n",
              "        0.65701846, 0.72301481, 0.78901116, 0.85500751, 0.92100385,\n",
              "        0.9870002 ]),\n",
              " <a list of 10 Patch objects>)"
            ]
          },
          "metadata": {
            "tags": []
          },
          "execution_count": 37
        },
        {
          "output_type": "display_data",
          "data": {
            "image/png": "[encoded data removed]",
            "text/plain": [
              "<Figure size 432x288 with 1 Axes>"
            ]
          },
          "metadata": {
            "tags": [],
            "needs_background": "light"
          }
        }
      ]
    },
    {
      "cell_type": "markdown",
      "metadata": {
        "id": "gbATYYtzS4cJ"
      },
      "source": [
        "6. Using the idea of importance sampling, draw samples from the uniform distribution between 0 and 0.5 such that $x \\sim U_0^{0.5} $ .  What is the formula for the integral of $f(x)$ when you use this distribution?\n",
        "\n",
        "<center>$A \\approx \\frac{1}{n}\\displaystyle\\sum_{i}f(x) \\frac{p(x)}{p^*(x)}$\n",
        "\n",
        "where $p(x) = 1$ and $p^*(x) = \\frac{1}{0.5}=2$</center>\n",
        "7. Is importance sampling better, worse, or the same compared to antithetic sampling? Why? Again, use Monte Carlo methods to compare importance sampling with antithetic sampling and the explain the results to answer the \"Why?\" portion of the question.\n",
        "\n",
        "Importance sampling only slightly better because it has lower variance. With importance sampling you will divide every $f(x_i)$ in half. With antithetic sampling you will e\u000bectively divide every estimate $0 < xi < 0.5$ in half which is exactly 5 estimates. They do the same thing but importance sampling gets 10 estimates where antithetic gets only 5."
      ]
    },
    {
      "cell_type": "code",
      "metadata": {
        "id": "z_HZRrLHPTyJ",
        "colab": {
          "base_uri": "https://localhost:8080/",
          "height": 353
        },
        "outputId": "7270dc38-84a6-42d2-9891-16f8f6a17633"
      },
      "source": [
        "samples = 10\n",
        "simulations = 100\n",
        "\n",
        "\n",
        "\n",
        "importance_estimates = []\n",
        "anti_estimates = []\n",
        "for i in range(simulations):\n",
        "    draws = []\n",
        "    anti_draws = []\n",
        "    for i in range(samples//2):\n",
        "        draws.append(f(random.uniform(0, 0.5))/2)\n",
        "        draws.append(f(random.uniform(0, 0.5))/2)\n",
        "        anti_draw = random.random()\n",
        "        anti_draws.append(f(anti_draw))\n",
        "        anti_draws.append(f(1-anti_draw))\n",
        "    importance_estimates.append(sum(draws)/samples)\n",
        "    anti_estimates.append(sum(anti_draws)/samples)\n",
        "\n",
        "plt.clf()\n",
        "plt.hist(importance_estimates)\n",
        "plt.hist(anti_estimates, alpha=0.5)"
      ],
      "execution_count": null,
      "outputs": [
        {
          "output_type": "execute_result",
          "data": {
            "text/plain": [
              "(array([ 4.,  5., 15., 15., 10., 15., 15., 12.,  8.,  1.]),\n",
              " array([0.32002361, 0.38573975, 0.4514559 , 0.51717204, 0.58288819,\n",
              "        0.64860433, 0.71432047, 0.78003662, 0.84575276, 0.91146891,\n",
              "        0.97718505]),\n",
              " <a list of 10 Patch objects>)"
            ]
          },
          "metadata": {
            "tags": []
          },
          "execution_count": 38
        },
        {
          "output_type": "display_data",
          "data": {
            "image/png": "[encoded data removed]",
            "text/plain": [
              "<Figure size 432x288 with 1 Axes>"
            ]
          },
          "metadata": {
            "tags": [],
            "needs_background": "light"
          }
        }
      ]
    },
    {
      "cell_type": "markdown",
      "metadata": {
        "id": "vM5Up0NSZPHp"
      },
      "source": [
        "# Question 2\n",
        "\n",
        "You oversee the regional shipping center for a specialized shipping company that has 2 warehouses available. Does this sound familiar? It is but pay attention because the problem has changed from the one solved in class.\n",
        "\n",
        "The company specializes in high risk shipments and only handles 2 types: Livestock and Biohazard. Each type of shipment has a specific setup cost and a per shipment profit associate with it.  You can find this in the table below:\n",
        "\n",
        "|Shipment Type |  Setup cost (\\$) | Profit (\\$) |\n",
        "|---|---|---|\n",
        "|Livestock | 22500 | 6 |\n",
        "|Biohazard | 38000 | 8 |\n",
        "\n",
        "Each warehouse has a different shipping rates (number of units shipped) or each type of shipment.  The shipping rates for each type in units shipped per hour are listed below:\n",
        "\n",
        "||Livestock | Biohazard |\n",
        "|---|---|---|\n",
        "|Warehouse 1 | 104 | 76 |\n",
        "|Warehouse 2 | 84 | 46 |\n",
        "\n",
        "Warehouses 1 has 240 hours of time available for shipments.  Additionally, warehouse 2 has 360 hours available for shipments. You need to decide which of these types of shipments should be handled by each location. More specifically, you should determine how many of each type are shipped from each warehouse to maximize profit. Use OR-tools to define an integer programming model and solve for the optimal solution.  Please make sure your answer is easily recognizable and that your code is included.  The answers to the following questions should be easy to spot in your code: \n",
        "\n",
        "1. What variables will you need to define?\n",
        "2. What is your objective function?\n",
        "3. Please list all necessary constraints."
      ]
    },
    {
      "cell_type": "code",
      "metadata": {
        "id": "9d_EufnRPYtA",
        "colab": {
          "base_uri": "https://localhost:8080/"
        },
        "outputId": "f1a81cf8-4689-4b7e-cb11-85c575893e41"
      },
      "source": [
        "solver = pywraplp.Solver.CreateSolver('SCIP')\n",
        "\n",
        "warehouse_hours = [240, 360]\n",
        "ship_types = [\"livestock\",\"bio\"]\n",
        "\n",
        "ship_rate = {\n",
        "    (0, \"livestock\"): 104,\n",
        "    (0, \"bio\"): 76,\n",
        "    (1, \"livestock\"): 84,\n",
        "    (1, \"bio\"): 46\n",
        "}\n",
        "\n",
        "ship_profit = {\"livestock\": 6, \"bio\": 8}\n",
        "setup_cost = {\"livestock\": 22500, \"bio\": 38000}\n",
        "\n",
        "ship_locations = {(w, ship): solver.IntVar(0, 1, str(w) + \"_\" + ship) for w in range(len(warehouse_hours)) for ship in ship_types}\n",
        "shipments = {(w, ship): solver.IntVar(0, solver.infinity(), \"units_shipped_\" + str(w) + \"_\" + ship) for w in range(len(warehouse_hours)) for ship in ship_types}\n",
        "\n",
        "# objective\n",
        "solver.Maximize(sum([ship_profit[ship] * (shipments[(0, ship)] + shipments[(1, ship)]) - setup_cost[ship] * (ship_locations[(0, ship)] + ship_locations[(1, ship)]) for ship in ship_types]))\n",
        "\n",
        "# constraints\n",
        "for w in range(len(warehouse_hours)):\n",
        "  solver.Add(shipments[(w, \"livestock\")]/ship_rate[(w, \"livestock\")] + shipments[(w, \"bio\")]/ship_rate[(w, \"bio\")] <= warehouse_hours[w]) # if -> then constraint\n",
        "  \n",
        "for key in ship_rate:\n",
        "  solver.Add(shipments[key] <= ship_rate[key] * warehouse_hours[key[0]] * ship_locations[key])\n",
        "\n",
        "status = solver.Solve()\n",
        "\n",
        "if status == solver.OPTIMAL:\n",
        "  for k in shipments:\n",
        "    print(f'(location, shipments): {k}, value: {shipments[k].solution_value()}')"
      ],
      "execution_count": null,
      "outputs": [
        {
          "output_type": "stream",
          "text": [
            "(location, shipments): (0, 'livestock'), value: 24960.0\n",
            "(location, shipments): (0, 'bio'), value: 0.0\n",
            "(location, shipments): (1, 'livestock'), value: 30240.0\n",
            "(location, shipments): (1, 'bio'), value: 0.0\n"
          ],
          "name": "stdout"
        }
      ]
    },
    {
      "cell_type": "code",
      "metadata": {
        "id": "NSsQJP1BiTzt"
      },
      "source": [
        ""
      ],
      "execution_count": null,
      "outputs": []
    }
  ]
}